{
 "cells": [
  {
   "cell_type": "markdown",
   "id": "6be2133d",
   "metadata": {},
   "source": [
    "# Amazon Web Scrapping\n",
    "## Obtaining daily prices changes for a product (book)"
   ]
  },
  {
   "cell_type": "code",
   "execution_count": 12,
   "id": "46eef088",
   "metadata": {},
   "outputs": [],
   "source": [
    "# import libraries\n",
    "\n",
    "from bs4 import BeautifulSoup\n",
    "import requests\n",
    "import smtplib\n",
    "import time\n",
    "import datetime\n"
   ]
  },
  {
   "cell_type": "code",
   "execution_count": 22,
   "id": "b461026c",
   "metadata": {},
   "outputs": [
    {
     "name": "stdout",
     "output_type": "stream",
     "text": [
      "\n",
      "            2018 Apple iPad (9.7-inch, WiFi, 32GB) - Space Grey (Renewed)\n",
      "           \n",
      "\n",
      "                    £175.00\n",
      "                   \n"
     ]
    }
   ],
   "source": [
    "# connect to the product website/link\n",
    "URL = \"https://www.amazon.co.uk/Apple-iPad-WI-FI-32GB-Refurbished/dp/B07NYS898H/ref=zg-bs_amazon-renewed_sccl_3/258-0469945-6067500?pd_rd_w=WxkkY&content-id=amzn1.sym.401f1a3a-5fa9-46fb-9ed2-7c7d241a11cd&pf_rd_p=401f1a3a-5fa9-46fb-9ed2-7c7d241a11cd&pf_rd_r=43YKHB1FR44WPFEHVM75&pd_rd_wg=iNlum&pd_rd_r=d20b281e-2b5c-4285-a827-bcfe4f3319dc&pd_rd_i=B07NYS898H&psc=1\"\n",
    "\n",
    "headers = {\"User-Agent\": \"Mozilla/5.0 (Windows NT 10.0; Win64; x64) AppleWebKit/537.36 (KHTML, like Gecko) Chrome/108.0.0.0 Safari/537.36 Edg/108.0.1462.42\", \"Accept-Encoding\":\"gzip, deflate\", \"Accept\":\"text/html,application/xhtml+xml,application/xml;q=0.9,*/*;q=0.8\", \"DNT\":\"1\",\"Connection\":\"close\", \"Upgrade-Insecure-Requests\":\"1\"}\n",
    "# obtained user agent from https://httpbin.org/get and obtained user agent \n",
    "\n",
    "page = requests.get(URL, headers=headers)\n",
    "\n",
    "# pulling the content from the page and formatting it better with prettify\n",
    "soup1 = BeautifulSoup(page.content, \"html.parser\")\n",
    "soup2 = BeautifulSoup(soup1.prettify(), \"html.parser\")\n",
    "\n",
    "# specify content we want\n",
    "title = soup2.find(id='productTitle').get_text()\n",
    "price = soup2.find(id='renewedBuyBoxPrice').get_text()\n",
    "\n",
    "# view data obtained\n",
    "print(title)\n",
    "print(price)"
   ]
  },
  {
   "cell_type": "code",
   "execution_count": 23,
   "id": "40059151",
   "metadata": {},
   "outputs": [
    {
     "name": "stdout",
     "output_type": "stream",
     "text": [
      "2018 Apple iPad (9.7-inch, WiFi, 32GB) - Space Grey (Renewed)\n",
      "175.00\n"
     ]
    }
   ],
   "source": [
    "# clean output\n",
    "#strip to remove extra spaces and index on price to remove pound sign\n",
    "\n",
    "price = price.strip()[1:]\n",
    "title = title.strip()\n",
    "\n",
    "print(title)\n",
    "print(price)"
   ]
  },
  {
   "cell_type": "code",
   "execution_count": 24,
   "id": "e26fc53a",
   "metadata": {},
   "outputs": [
    {
     "name": "stdout",
     "output_type": "stream",
     "text": [
      "2022-12-22\n"
     ]
    }
   ],
   "source": [
    "# Obtain date when price is extracted\n",
    "\n",
    "import datetime\n",
    "\n",
    "today = datetime.date.today()\n",
    "\n",
    "print(today)"
   ]
  },
  {
   "cell_type": "code",
   "execution_count": 25,
   "id": "f71e642a",
   "metadata": {},
   "outputs": [],
   "source": [
    "# create csv to import data obtained\n",
    "\n",
    "import csv\n",
    "\n",
    "header = ['Title', 'Price', 'Date']\n",
    "data = [title, price, today]\n",
    "\n",
    "# note: w = write, newline = no space when adding data\n",
    "with open('AmazonWebScraperDataset.csv', 'w', newline='', encoding='UTF8') as f:\n",
    "    writer = csv.writer(f)\n",
    "    writer.writerow(header)\n",
    "    writer.writerow(data)\n",
    " \n"
   ]
  },
  {
   "cell_type": "code",
   "execution_count": 26,
   "id": "d3b647c3",
   "metadata": {},
   "outputs": [
    {
     "name": "stdout",
     "output_type": "stream",
     "text": [
      "                                               Title  Price        Date\n",
      "0  2018 Apple iPad (9.7-inch, WiFi, 32GB) - Space...  175.0  2022-12-22\n"
     ]
    }
   ],
   "source": [
    "# view csv data\n",
    "\n",
    "import pandas as pd\n",
    "\n",
    "df = pd.read_csv(r'C:\\Users\\cheil\\AmazonWebScraperDataset.csv')\n",
    "\n",
    "print(df)"
   ]
  },
  {
   "cell_type": "code",
   "execution_count": 27,
   "id": "79cfcf7a",
   "metadata": {},
   "outputs": [],
   "source": [
    "# append new data to csv\n",
    "\n",
    "# note: a+ = append\n",
    "with open('AmazonWebScraperDataset.csv', 'a+', newline='', encoding='UTF8') as f:\n",
    "    writer = csv.writer(f)\n",
    "    writer.writerow(data)\n"
   ]
  },
  {
   "cell_type": "code",
   "execution_count": 30,
   "id": "eb0a3f26",
   "metadata": {},
   "outputs": [],
   "source": [
    "# create function to automate the price check using the code we used above\n",
    "\n",
    "def check_price():\n",
    "    # get website content\n",
    "    URL = \"https://www.amazon.co.uk/Apple-iPad-WI-FI-32GB-Refurbished/dp/B07NYS898H/ref=zg-bs_amazon-renewed_sccl_3/258-0469945-6067500?pd_rd_w=WxkkY&content-id=amzn1.sym.401f1a3a-5fa9-46fb-9ed2-7c7d241a11cd&pf_rd_p=401f1a3a-5fa9-46fb-9ed2-7c7d241a11cd&pf_rd_r=43YKHB1FR44WPFEHVM75&pd_rd_wg=iNlum&pd_rd_r=d20b281e-2b5c-4285-a827-bcfe4f3319dc&pd_rd_i=B07NYS898H&psc=1\"\n",
    "    headers = {\"User-Agent\": \"Mozilla/5.0 (Windows NT 10.0; Win64; x64) AppleWebKit/537.36 (KHTML, like Gecko) Chrome/108.0.0.0 Safari/537.36 Edg/108.0.1462.42\", \"Accept-Encoding\":\"gzip, deflate\", \"Accept\":\"text/html,application/xhtml+xml,application/xml;q=0.9,*/*;q=0.8\", \"DNT\":\"1\",\"Connection\":\"close\", \"Upgrade-Insecure-Requests\":\"1\"}\n",
    "    page = requests.get(URL, headers=headers)\n",
    "\n",
    "    soup1 = BeautifulSoup(page.content, \"html.parser\")\n",
    "    soup2 = BeautifulSoup(soup1.prettify(), \"html.parser\")\n",
    "\n",
    "    title = soup2.find(id='productTitle').get_text()\n",
    "    price = soup2.find(id='renewedBuyBoxPrice').get_text()\n",
    "\n",
    "    # get information we need\n",
    "    price = price.strip()[1:]\n",
    "    title = title.strip()\n",
    "\n",
    "    # obtain date price is checked\n",
    "    import datetime\n",
    "    today = datetime.date.today()   \n",
    "\n",
    "    # append new data into csv\n",
    "    import csv \n",
    "    header = ['Title', 'Price', 'Date']\n",
    "    data = [title, price, today]\n",
    "\n",
    "    with open('AmazonWebScraperDataset.csv', 'a+', newline='', encoding='UTF8') as f:\n",
    "        writer = csv.writer(f)\n",
    "        writer.writerow(data)\n",
    "        \n",
    "   # if(price < 150):\n",
    "      #  send_mail()"
   ]
  },
  {
   "cell_type": "code",
   "execution_count": null,
   "id": "a8f84329",
   "metadata": {
    "scrolled": true
   },
   "outputs": [],
   "source": [
    "# check price daily and automatically update csv\n",
    "\n",
    "while(True):\n",
    "    check_price()\n",
    "    time.sleep(86400) #repeats daily"
   ]
  },
  {
   "cell_type": "code",
   "execution_count": null,
   "id": "bd53dc4b",
   "metadata": {},
   "outputs": [],
   "source": [
    "# look at csv data \n",
    "\n",
    "import pandas as pd\n",
    "df = pd.read_csv(r'C:\\Users\\cheil\\AmazonWebScraperDataset.csv')\n",
    "\n",
    "print(df)"
   ]
  },
  {
   "cell_type": "code",
   "execution_count": null,
   "id": "914ad6f3",
   "metadata": {},
   "outputs": [],
   "source": [
    "# in case I want to get an email when the price goes down\n",
    "\n",
    "def send_mail():\n",
    "    server = smtplib.SMTP_SSL('smtp.gmail.com',465)\n",
    "    server.ehlo()\n",
    "    #server.starttls()\n",
    "    server.ehlo()\n",
    "    server.login('insert-email@outlook.com','xxxxxxxxxxxxxx')\n",
    "    \n",
    "    subject = \"That ipad you were looking at is now below £150!\"\n",
    "    body = \"Cheila, the product is at a reduced price!\n",
    "    msg = f\"Subject: {subject}\\n\\n{body}\"\n",
    "    \n",
    "    server.sendmail(\n",
    "        'insert-email@outlook.com',\n",
    "        msg\n",
    "     \n",
    "    )"
   ]
  }
 ],
 "metadata": {
  "kernelspec": {
   "display_name": "Python 3 (ipykernel)",
   "language": "python",
   "name": "python3"
  },
  "language_info": {
   "codemirror_mode": {
    "name": "ipython",
    "version": 3
   },
   "file_extension": ".py",
   "mimetype": "text/x-python",
   "name": "python",
   "nbconvert_exporter": "python",
   "pygments_lexer": "ipython3",
   "version": "3.9.13"
  }
 },
 "nbformat": 4,
 "nbformat_minor": 5
}
